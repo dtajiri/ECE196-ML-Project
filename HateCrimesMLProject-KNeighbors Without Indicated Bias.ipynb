{
 "cells": [
  {
   "cell_type": "code",
   "execution_count": 2,
   "metadata": {},
   "outputs": [],
   "source": [
    "import pandas as pd\n",
    "import numpy as np\n",
    "import matplotlib.pyplot as plt\n",
    "from sklearn.model_selection import train_test_split\n",
    "from sklearn.preprocessing import StandardScaler\n",
    "from sklearn.decomposition import PCA\n",
    "pd.set_option('display.max_columns', None)"
   ]
  },
  {
   "cell_type": "code",
   "execution_count": 3,
   "metadata": {},
   "outputs": [],
   "source": [
    "df = pd.read_csv(r'C:\\Users\\98all\\Documents\\GitHub\\ECE196_SP21\\Hate-2001-2019-0.csv')"
   ]
  },
  {
   "cell_type": "code",
   "execution_count": 4,
   "metadata": {},
   "outputs": [],
   "source": [
    "#Fill empty values with None for Weapon Type and clean up typos in dataset\n",
    "df['WeaponType'].fillna('None',inplace = True)\n",
    "df['WeaponType'].replace('Other ( bottle, rocks, spitting)', 'Other (bottle, rocks, spitting)', inplace=True)\n",
    "df['WeaponType'].replace('Firearm (unknown whether handgun, rifle or shotgun', 'Firearm (unknown whether handgun, rifle or shotgun)', inplace=True)\n",
    "\n",
    "#Replace rest of NaN values with 'Unknown'\n",
    "df_new = df.replace(np.nan, 'Unknown', regex=True)\n",
    "\n",
    "#rearrange columns to be more easily readable\n",
    "columns_titles = ['MostSeriousBiasType','TotalNumberOfVictims','MostSeriousVictimType','TotalNumberOfSuspects','SuspectsRaceAsAGroup','MostSeriousUcr','MostSeriousUcrType','WeaponType','Offensive_Act','MostSeriousLocation','County','NCIC','ClosedYear','MonthOccurrence']\n",
    "df_new=df_new.reindex(columns=columns_titles)\n",
    "\n",
    "#One hot encode all necessary columns\n",
    "##df_new = pd.concat([df_new,pd.get_dummies(df_new['MostSeriousBias'], prefix='Bias')],axis=1)\n",
    "##df_new.drop(['MostSeriousBias'],axis=1, inplace=True)\n",
    "TotalNumberOfVictims = df_new['TotalNumberOfVictims']\n",
    "df_new.drop(['TotalNumberOfVictims'],axis=1, inplace=True)\n",
    "df_new = pd.concat([df_new,TotalNumberOfVictims],axis=1)\n",
    "df_new = pd.concat([df_new,pd.get_dummies(df_new['MostSeriousVictimType'], prefix='VictimType')],axis=1)\n",
    "df_new.drop(['MostSeriousVictimType'],axis=1, inplace=True)\n",
    "TotalNumberOfSuspects = df_new['TotalNumberOfSuspects']\n",
    "df_new.drop(['TotalNumberOfSuspects'],axis=1, inplace=True)\n",
    "df_new = pd.concat([df_new,TotalNumberOfSuspects],axis=1)\n",
    "df_new = pd.concat([df_new,pd.get_dummies(df_new['SuspectsRaceAsAGroup'], prefix='SuspectsRace')],axis=1)\n",
    "df_new.drop(['SuspectsRaceAsAGroup'],axis=1, inplace=True)\n",
    "df_new = pd.concat([df_new,pd.get_dummies(df_new['MostSeriousUcr'], prefix='Ucr')],axis=1)\n",
    "df_new.drop(['MostSeriousUcr'],axis=1, inplace=True)\n",
    "df_new = pd.concat([df_new,pd.get_dummies(df_new['MostSeriousUcrType'], prefix='UcrType')],axis=1)\n",
    "df_new.drop(['MostSeriousUcrType'],axis=1, inplace=True)\n",
    "df_new = pd.concat([df_new,pd.get_dummies(df_new['WeaponType'], prefix='Weapon')],axis=1)\n",
    "df_new.drop(['WeaponType'],axis=1, inplace=True)\n",
    "df_new = pd.concat([df_new,pd.get_dummies(df_new['Offensive_Act'], prefix='Offense')],axis=1)\n",
    "df_new.drop(['Offensive_Act'],axis=1, inplace=True)\n",
    "df_new = pd.concat([df_new,pd.get_dummies(df_new['MostSeriousLocation'], prefix='Location')],axis=1)\n",
    "df_new.drop(['MostSeriousLocation'],axis=1, inplace=True)\n",
    "df_new = pd.concat([df_new,pd.get_dummies(df_new['County'], prefix='County')],axis=1)\n",
    "df_new.drop(['County'],axis=1, inplace=True)\n",
    "df_new = pd.concat([df_new,pd.get_dummies(df_new['NCIC'], prefix='Agency')],axis=1)\n",
    "df_new.drop(['NCIC'],axis=1, inplace=True)\n",
    "df_new = pd.concat([df_new,pd.get_dummies(df_new['ClosedYear'], prefix='Year')],axis=1)\n",
    "df_new.drop(['ClosedYear'],axis=1, inplace=True)\n",
    "df_new = pd.concat([df_new,pd.get_dummies(df_new['MonthOccurrence'], prefix='Month')],axis=1)\n",
    "df_new.drop(['MonthOccurrence'],axis=1, inplace=True)"
   ]
  },
  {
   "cell_type": "code",
   "execution_count": 5,
   "metadata": {},
   "outputs": [],
   "source": [
    "#separate data into labels and data points\n",
    "y_labels = df_new['MostSeriousBiasType']\n",
    "x_data = df_new.iloc[:, 1:778]"
   ]
  },
  {
   "cell_type": "code",
   "execution_count": 6,
   "metadata": {},
   "outputs": [],
   "source": [
    "#split data into training and testing sets and shuffle before splitting\n",
    "x_Train, x_Test, y_Train, y_Test = train_test_split(x_data, y_labels, shuffle = True, test_size = .2)"
   ]
  },
  {
   "cell_type": "code",
   "execution_count": 7,
   "metadata": {},
   "outputs": [],
   "source": [
    "#scale the data/normalize the data so that the features do not broadly vary\n",
    "scaler = StandardScaler()\n",
    "scaler.fit(x_Train)\n",
    "\n",
    "x_Train = scaler.transform(x_Train)\n",
    "x_Test = scaler.transform(x_Test)"
   ]
  },
  {
   "cell_type": "code",
   "execution_count": 8,
   "metadata": {},
   "outputs": [
    {
     "data": {
      "text/plain": [
       "KNeighborsClassifier(n_neighbors=2)"
      ]
     },
     "execution_count": 8,
     "metadata": {},
     "output_type": "execute_result"
    }
   ],
   "source": [
    "#build the Knn classifier\n",
    "from sklearn.neighbors import KNeighborsClassifier\n",
    "classifier = KNeighborsClassifier(n_neighbors=2)\n",
    "classifier.fit(x_Train, y_Train)"
   ]
  },
  {
   "cell_type": "code",
   "execution_count": 9,
   "metadata": {},
   "outputs": [],
   "source": [
    "y_pred = classifier.predict(x_Test)"
   ]
  },
  {
   "cell_type": "code",
   "execution_count": 10,
   "metadata": {},
   "outputs": [
    {
     "name": "stdout",
     "output_type": "stream",
     "text": [
      "                         precision    recall  f1-score   support\n",
      "\n",
      "             Disability       0.00      0.00      0.00        19\n",
      "                 Gender       0.03      0.09      0.05        11\n",
      "   Gender Nonconforming       0.05      0.09      0.06        66\n",
      "Race/Ethnicity/Ancestry       0.65      0.83      0.73      2794\n",
      "               Religion       0.44      0.29      0.35       733\n",
      "     Sexual Orientation       0.42      0.14      0.21       999\n",
      "\n",
      "               accuracy                           0.58      4622\n",
      "              macro avg       0.26      0.24      0.23      4622\n",
      "           weighted avg       0.55      0.58      0.54      4622\n",
      "\n"
     ]
    }
   ],
   "source": [
    "#print out statistics to show how well our classifier did\n",
    "from sklearn.metrics import classification_report, confusion_matrix\n",
    "print(classification_report(y_Test, y_pred))"
   ]
  },
  {
   "cell_type": "code",
   "execution_count": 11,
   "metadata": {},
   "outputs": [
    {
     "name": "stdout",
     "output_type": "stream",
     "text": [
      "[[-5.05659978e-01  1.21297903e-01  1.13667682e-02 ... -2.03962948e-02\n",
      "   3.07275206e-02 -3.73182462e-02]\n",
      " [ 2.41285543e-02  8.40919036e-03  1.48962788e-02 ...  1.44427851e-01\n",
      "   3.24707777e-03  1.01665507e-01]\n",
      " [-2.02004324e-01 -7.19198179e-02 -4.00440382e-04 ... -3.68761901e-02\n",
      "   1.67439674e-02 -5.96940712e-02]\n",
      " [ 2.50385058e-01 -1.53999751e-02  4.85527751e-02 ... -3.36667307e-02\n",
      "  -1.10348756e-02 -1.64784456e-02]\n",
      " [ 2.64014880e-01  6.37305585e-03 -4.31399837e-02 ... -5.15458355e-02\n",
      "  -2.51633713e-02  1.28869590e-02]\n",
      " [ 1.69135809e-01 -4.87603557e-02 -3.12753981e-02 ... -1.94279967e-03\n",
      "  -1.45203188e-02 -1.06170326e-03]]\n"
     ]
    },
    {
     "name": "stderr",
     "output_type": "stream",
     "text": [
      "c:\\users\\98all\\appdata\\local\\programs\\python\\python39\\lib\\site-packages\\sklearn\\linear_model\\_logistic.py:763: ConvergenceWarning: lbfgs failed to converge (status=1):\n",
      "STOP: TOTAL NO. of ITERATIONS REACHED LIMIT.\n",
      "\n",
      "Increase the number of iterations (max_iter) or scale the data as shown in:\n",
      "    https://scikit-learn.org/stable/modules/preprocessing.html\n",
      "Please also refer to the documentation for alternative solver options:\n",
      "    https://scikit-learn.org/stable/modules/linear_model.html#logistic-regression\n",
      "  n_iter_i = _check_optimize_result(\n"
     ]
    }
   ],
   "source": [
    "from sklearn.linear_model import LogisticRegression\n",
    "clf = LogisticRegression(random_state = 0).fit(x_Train, y_Train)\n",
    "print(clf.coef_)\n",
    "y_prediction = clf.predict(x_Test)"
   ]
  },
  {
   "cell_type": "code",
   "execution_count": 12,
   "metadata": {},
   "outputs": [
    {
     "data": {
      "text/plain": [
       "array([[7.87275807e-05, 1.62702053e-06, 5.19763185e-02, 8.36351088e-01,\n",
       "        2.63130214e-02, 8.52792176e-02],\n",
       "       [1.38610663e-06, 5.06560308e-06, 6.80963251e-07, 1.48889234e-01,\n",
       "        8.45463831e-01, 5.63980200e-03],\n",
       "       [1.40219123e-03, 7.65219059e-04, 9.25727418e-03, 3.93714342e-01,\n",
       "        2.14209645e-01, 3.80651328e-01],\n",
       "       ...,\n",
       "       [3.32073935e-04, 6.07001958e-05, 5.01285171e-02, 3.77747505e-01,\n",
       "        1.29261972e-02, 5.58805006e-01],\n",
       "       [3.39354316e-07, 7.51900024e-06, 1.04379735e-01, 5.41458895e-01,\n",
       "        3.20814996e-02, 3.22072013e-01],\n",
       "       [8.39167703e-04, 4.04238916e-02, 2.23929876e-02, 4.71156057e-01,\n",
       "        1.76224365e-01, 2.88963531e-01]])"
      ]
     },
     "execution_count": 12,
     "metadata": {},
     "output_type": "execute_result"
    }
   ],
   "source": [
    "clf.predict_proba(x_Test)"
   ]
  },
  {
   "cell_type": "code",
   "execution_count": 13,
   "metadata": {},
   "outputs": [
    {
     "data": {
      "text/plain": [
       "array([[ -9.44951701, -13.32876011,  -2.95696708,  -0.17870679,\n",
       "         -3.63769135,  -2.46182449],\n",
       "       [-13.48901173, -12.19303736, -14.1997575 ,  -1.90455265,\n",
       "         -0.16786989,  -5.17790632],\n",
       "       [ -6.5697191 ,  -7.17534841,  -4.68234564,  -0.93212965,\n",
       "         -1.54080009,  -0.96587147],\n",
       "       ...,\n",
       "       [ -8.01015292,  -9.70956363,  -2.99316523,  -0.97352928,\n",
       "         -4.34849924,  -0.58195469],\n",
       "       [-14.8962211 , -11.79807738,  -2.25971973,  -0.61348813,\n",
       "         -3.43947575,  -1.13298012],\n",
       "       [ -7.08309999,  -3.20833429,  -3.79900742,  -0.75256591,\n",
       "         -1.73599729,  -1.24145479]])"
      ]
     },
     "execution_count": 13,
     "metadata": {},
     "output_type": "execute_result"
    }
   ],
   "source": [
    "clf.predict_log_proba(x_Test)"
   ]
  },
  {
   "cell_type": "code",
   "execution_count": 14,
   "metadata": {},
   "outputs": [
    {
     "data": {
      "text/plain": [
       "0.5980264866268502"
      ]
     },
     "execution_count": 14,
     "metadata": {},
     "output_type": "execute_result"
    }
   ],
   "source": [
    "clf.score(x_data,y_labels)"
   ]
  },
  {
   "cell_type": "code",
   "execution_count": 15,
   "metadata": {},
   "outputs": [
    {
     "data": {
      "text/plain": [
       "array([[   1,    0,    0,   14,    1,    3],\n",
       "       [   0,    1,    0,    9,    0,    1],\n",
       "       [   0,    0,    1,   43,    1,   21],\n",
       "       [   1,    4,    5, 2483,  123,  178],\n",
       "       [   1,    1,    0,  398,  308,   25],\n",
       "       [   1,    0,    2,  751,   29,  216]], dtype=int64)"
      ]
     },
     "execution_count": 15,
     "metadata": {},
     "output_type": "execute_result"
    }
   ],
   "source": [
    "confusion_matrix(y_Test, y_prediction)"
   ]
  },
  {
   "cell_type": "code",
   "execution_count": 17,
   "metadata": {},
   "outputs": [
    {
     "name": "stdout",
     "output_type": "stream",
     "text": [
      "                         precision    recall  f1-score   support\n",
      "\n",
      "             Disability       0.25      0.05      0.09        19\n",
      "                 Gender       0.17      0.09      0.12        11\n",
      "   Gender Nonconforming       0.12      0.02      0.03        66\n",
      "Race/Ethnicity/Ancestry       0.67      0.89      0.76      2794\n",
      "               Religion       0.67      0.42      0.52       733\n",
      "     Sexual Orientation       0.49      0.22      0.30       999\n",
      "\n",
      "               accuracy                           0.65      4622\n",
      "              macro avg       0.39      0.28      0.30      4622\n",
      "           weighted avg       0.62      0.65      0.61      4622\n",
      "\n"
     ]
    }
   ],
   "source": [
    "print(classification_report(y_Test, y_prediction))"
   ]
  },
  {
   "cell_type": "code",
   "execution_count": null,
   "metadata": {},
   "outputs": [],
   "source": []
  }
 ],
 "metadata": {
  "kernelspec": {
   "display_name": "Python 3",
   "language": "python",
   "name": "python3"
  },
  "language_info": {
   "codemirror_mode": {
    "name": "ipython",
    "version": 3
   },
   "file_extension": ".py",
   "mimetype": "text/x-python",
   "name": "python",
   "nbconvert_exporter": "python",
   "pygments_lexer": "ipython3",
   "version": "3.8.5"
  }
 },
 "nbformat": 4,
 "nbformat_minor": 4
}
