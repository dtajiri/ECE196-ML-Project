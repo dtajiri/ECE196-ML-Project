{
 "cells": [
  {
   "cell_type": "code",
   "execution_count": 1,
   "metadata": {},
   "outputs": [],
   "source": [
    "import pandas as pd\n",
    "import numpy as np\n",
    "import matplotlib.pyplot as plt\n",
    "from sklearn.model_selection import train_test_split\n",
    "from sklearn.preprocessing import StandardScaler\n",
    "from sklearn.decomposition import PCA\n",
    "pd.set_option('display.max_columns', None)"
   ]
  },
  {
   "cell_type": "code",
   "execution_count": 2,
   "metadata": {},
   "outputs": [],
   "source": [
    "df = pd.read_csv(r'C:\\Users\\98all\\Documents\\GitHub\\ECE196_SP21\\Hate-2001-2019-0.csv')"
   ]
  },
  {
   "cell_type": "code",
   "execution_count": 3,
   "metadata": {},
   "outputs": [],
   "source": [
    "#Fill empty values with None for Weapon Type and clean up typos in dataset\n",
    "df['WeaponType'].fillna('None',inplace = True)\n",
    "df['WeaponType'].replace('Other ( bottle, rocks, spitting)', 'Other (bottle, rocks, spitting)', inplace=True)\n",
    "df['WeaponType'].replace('Firearm (unknown whether handgun, rifle or shotgun', 'Firearm (unknown whether handgun, rifle or shotgun)', inplace=True)\n",
    "\n",
    "#Replace rest of NaN values with 'Unknown'\n",
    "df_new = df.replace(np.nan, 'Unknown', regex=True)\n",
    "\n",
    "#rearrange columns to be more easily readable\n",
    "columns_titles = ['MostSeriousBiasType','TotalNumberOfVictims','MostSeriousVictimType','TotalNumberOfSuspects','SuspectsRaceAsAGroup','MostSeriousUcr','MostSeriousUcrType','WeaponType','Offensive_Act','MostSeriousLocation','County','NCIC','ClosedYear','MonthOccurrence']\n",
    "df_new=df_new.reindex(columns=columns_titles)\n",
    "\n",
    "#One hot encode all necessary columns\n",
    "##df_new = pd.concat([df_new,pd.get_dummies(df_new['MostSeriousBias'], prefix='Bias')],axis=1)\n",
    "##df_new.drop(['MostSeriousBias'],axis=1, inplace=True)\n",
    "TotalNumberOfVictims = df_new['TotalNumberOfVictims']\n",
    "df_new.drop(['TotalNumberOfVictims'],axis=1, inplace=True)\n",
    "df_new = pd.concat([df_new,TotalNumberOfVictims],axis=1)\n",
    "df_new = pd.concat([df_new,pd.get_dummies(df_new['MostSeriousVictimType'], prefix='VictimType')],axis=1)\n",
    "df_new.drop(['MostSeriousVictimType'],axis=1, inplace=True)\n",
    "TotalNumberOfSuspects = df_new['TotalNumberOfSuspects']\n",
    "df_new.drop(['TotalNumberOfSuspects'],axis=1, inplace=True)\n",
    "df_new = pd.concat([df_new,TotalNumberOfSuspects],axis=1)\n",
    "df_new = pd.concat([df_new,pd.get_dummies(df_new['SuspectsRaceAsAGroup'], prefix='SuspectsRace')],axis=1)\n",
    "df_new.drop(['SuspectsRaceAsAGroup'],axis=1, inplace=True)\n",
    "df_new = pd.concat([df_new,pd.get_dummies(df_new['MostSeriousUcr'], prefix='Ucr')],axis=1)\n",
    "df_new.drop(['MostSeriousUcr'],axis=1, inplace=True)\n",
    "df_new = pd.concat([df_new,pd.get_dummies(df_new['MostSeriousUcrType'], prefix='UcrType')],axis=1)\n",
    "df_new.drop(['MostSeriousUcrType'],axis=1, inplace=True)\n",
    "df_new = pd.concat([df_new,pd.get_dummies(df_new['WeaponType'], prefix='Weapon')],axis=1)\n",
    "df_new.drop(['WeaponType'],axis=1, inplace=True)\n",
    "df_new = pd.concat([df_new,pd.get_dummies(df_new['Offensive_Act'], prefix='Offense')],axis=1)\n",
    "df_new.drop(['Offensive_Act'],axis=1, inplace=True)\n",
    "df_new = pd.concat([df_new,pd.get_dummies(df_new['MostSeriousLocation'], prefix='Location')],axis=1)\n",
    "df_new.drop(['MostSeriousLocation'],axis=1, inplace=True)\n",
    "df_new = pd.concat([df_new,pd.get_dummies(df_new['County'], prefix='County')],axis=1)\n",
    "df_new.drop(['County'],axis=1, inplace=True)\n",
    "df_new = pd.concat([df_new,pd.get_dummies(df_new['NCIC'], prefix='Agency')],axis=1)\n",
    "df_new.drop(['NCIC'],axis=1, inplace=True)\n",
    "df_new = pd.concat([df_new,pd.get_dummies(df_new['ClosedYear'], prefix='Year')],axis=1)\n",
    "df_new.drop(['ClosedYear'],axis=1, inplace=True)\n",
    "df_new = pd.concat([df_new,pd.get_dummies(df_new['MonthOccurrence'], prefix='Month')],axis=1)\n",
    "df_new.drop(['MonthOccurrence'],axis=1, inplace=True)"
   ]
  },
  {
   "cell_type": "code",
   "execution_count": 4,
   "metadata": {},
   "outputs": [],
   "source": [
    "#separate data into labels and data points\n",
    "y_labels = df_new['MostSeriousBiasType']\n",
    "x_data = df_new.iloc[:, 1:778]"
   ]
  },
  {
   "cell_type": "code",
   "execution_count": 5,
   "metadata": {},
   "outputs": [],
   "source": [
    "#split data into training and testing sets and shuffle before splitting\n",
    "x_Train, x_Test, y_Train, y_Test = train_test_split(x_data, y_labels, shuffle = True, test_size = .2)"
   ]
  },
  {
   "cell_type": "code",
   "execution_count": 6,
   "metadata": {},
   "outputs": [],
   "source": [
    "#scale the data/normalize the data so that the features do not broadly vary\n",
    "scaler = StandardScaler()\n",
    "scaler.fit(x_Train)\n",
    "\n",
    "x_Train = scaler.transform(x_Train)\n",
    "x_Test = scaler.transform(x_Test)"
   ]
  },
  {
   "cell_type": "code",
   "execution_count": 7,
   "metadata": {},
   "outputs": [
    {
     "data": {
      "text/plain": [
       "KNeighborsClassifier(n_neighbors=2)"
      ]
     },
     "execution_count": 7,
     "metadata": {},
     "output_type": "execute_result"
    }
   ],
   "source": [
    "#build the Knn classifier\n",
    "from sklearn.neighbors import KNeighborsClassifier\n",
    "classifier = KNeighborsClassifier(n_neighbors=2)\n",
    "classifier.fit(x_Train, y_Train)"
   ]
  },
  {
   "cell_type": "code",
   "execution_count": 8,
   "metadata": {},
   "outputs": [],
   "source": [
    "y_pred = classifier.predict(x_Test)"
   ]
  },
  {
   "cell_type": "code",
   "execution_count": 9,
   "metadata": {},
   "outputs": [
    {
     "name": "stdout",
     "output_type": "stream",
     "text": [
      "                         precision    recall  f1-score   support\n",
      "\n",
      "             Disability       0.00      0.00      0.00        13\n",
      "                 Gender       0.05      0.10      0.07        10\n",
      "   Gender Nonconforming       0.05      0.11      0.07        63\n",
      "Race/Ethnicity/Ancestry       0.64      0.85      0.73      2738\n",
      "               Religion       0.52      0.32      0.40       829\n",
      "     Sexual Orientation       0.38      0.11      0.17       969\n",
      "\n",
      "               accuracy                           0.59      4622\n",
      "              macro avg       0.27      0.25      0.24      4622\n",
      "           weighted avg       0.55      0.59      0.54      4622\n",
      "\n"
     ]
    }
   ],
   "source": [
    "#print out statistics to show how well our classifier did\n",
    "from sklearn.metrics import classification_report\n",
    "print(classification_report(y_Test, y_pred))"
   ]
  },
  {
   "cell_type": "code",
   "execution_count": 52,
   "metadata": {},
   "outputs": [],
   "source": []
  },
  {
   "cell_type": "code",
   "execution_count": null,
   "metadata": {},
   "outputs": [],
   "source": []
  },
  {
   "cell_type": "code",
   "execution_count": null,
   "metadata": {},
   "outputs": [],
   "source": []
  }
 ],
 "metadata": {
  "kernelspec": {
   "display_name": "Python 3",
   "language": "python",
   "name": "python3"
  },
  "language_info": {
   "codemirror_mode": {
    "name": "ipython",
    "version": 3
   },
   "file_extension": ".py",
   "mimetype": "text/x-python",
   "name": "python",
   "nbconvert_exporter": "python",
   "pygments_lexer": "ipython3",
   "version": "3.8.5"
  }
 },
 "nbformat": 4,
 "nbformat_minor": 4
}
