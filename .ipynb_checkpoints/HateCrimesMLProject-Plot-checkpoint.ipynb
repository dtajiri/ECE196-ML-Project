{
 "cells": [
  {
   "cell_type": "code",
   "execution_count": 2,
   "metadata": {},
   "outputs": [],
   "source": [
    "import pandas as pd\n",
    "import numpy as np\n",
    "from sklearn.model_selection import train_test_split\n",
    "from sklearn.preprocessing import StandardScaler\n",
    "from sklearn.metrics import classification_report\n",
    "from sklearn.neighbors import KNeighborsClassifier\n",
    "from sklearn.ensemble import RandomForestClassifier\n",
    "from sklearn.metrics import accuracy_score\n",
    "pd.set_option('display.max_columns', None)"
   ]
  },
  {
   "cell_type": "code",
   "execution_count": 3,
   "metadata": {},
   "outputs": [],
   "source": [
    "df = pd.read_csv(C:\\Users\\98all\\Documents\\GitHub\\ECE196_SP21Hate-2001-2019-0.csv\")"
   ]
  },
  {
   "cell_type": "code",
   "execution_count": 4,
   "metadata": {},
   "outputs": [],
   "source": [
    "#Fill empty values with None for Weapon Type and clean up typos in dataset\n",
    "df['WeaponType'].fillna('None',inplace = True)\n",
    "df['WeaponType'].replace('Other ( bottle, rocks, spitting)', 'Other (bottle, rocks, spitting)', inplace=True)\n",
    "df['WeaponType'].replace('Firearm (unknown whether handgun, rifle or shotgun', 'Firearm (unknown whether handgun, rifle or shotgun)', inplace=True)\n",
    "\n",
    "#Replace rest of NaN values with 'Unknown'\n",
    "df_new = df.replace(np.nan, 'Unknown', regex=True)\n",
    "\n",
    "#rearrange columns to be more easily readable\n",
    "columns_titles = ['MostSeriousBias','MostSeriousBiasType','TotalNumberOfVictims','MostSeriousVictimType','TotalNumberOfSuspects','SuspectsRaceAsAGroup','MostSeriousUcr','MostSeriousUcrType','WeaponType','Offensive_Act','MostSeriousLocation','County','NCIC','ClosedYear','MonthOccurrence']\n",
    "df_new=df_new.reindex(columns=columns_titles)\n",
    "\n",
    "#One hot encode all necessary columns\n",
    "df_new = pd.concat([df_new,pd.get_dummies(df_new['MostSeriousBiasType'], prefix='BiasType')],axis=1)\n",
    "df_new.drop(['MostSeriousBiasType'],axis=1, inplace=True)\n",
    "TotalNumberOfVictims = df_new['TotalNumberOfVictims']\n",
    "df_new.drop(['TotalNumberOfVictims'],axis=1, inplace=True)\n",
    "df_new = pd.concat([df_new,TotalNumberOfVictims],axis=1)\n",
    "df_new = pd.concat([df_new,pd.get_dummies(df_new['MostSeriousVictimType'], prefix='VictimType')],axis=1)\n",
    "df_new.drop(['MostSeriousVictimType'],axis=1, inplace=True)\n",
    "TotalNumberOfSuspects = df_new['TotalNumberOfSuspects']\n",
    "df_new.drop(['TotalNumberOfSuspects'],axis=1, inplace=True)\n",
    "df_new = pd.concat([df_new,TotalNumberOfSuspects],axis=1)\n",
    "df_new = pd.concat([df_new,pd.get_dummies(df_new['SuspectsRaceAsAGroup'], prefix='SuspectsRace')],axis=1)\n",
    "df_new.drop(['SuspectsRaceAsAGroup'],axis=1, inplace=True)\n",
    "df_new = pd.concat([df_new,pd.get_dummies(df_new['MostSeriousUcr'], prefix='Ucr')],axis=1)\n",
    "df_new.drop(['MostSeriousUcr'],axis=1, inplace=True)\n",
    "df_new = pd.concat([df_new,pd.get_dummies(df_new['MostSeriousUcrType'], prefix='UcrType')],axis=1)\n",
    "df_new.drop(['MostSeriousUcrType'],axis=1, inplace=True)\n",
    "df_new = pd.concat([df_new,pd.get_dummies(df_new['WeaponType'], prefix='Weapon')],axis=1)\n",
    "df_new.drop(['WeaponType'],axis=1, inplace=True)\n",
    "df_new = pd.concat([df_new,pd.get_dummies(df_new['Offensive_Act'], prefix='Offense')],axis=1)\n",
    "df_new.drop(['Offensive_Act'],axis=1, inplace=True)\n",
    "df_new = pd.concat([df_new,pd.get_dummies(df_new['MostSeriousLocation'], prefix='Location')],axis=1)\n",
    "df_new.drop(['MostSeriousLocation'],axis=1, inplace=True)\n",
    "df_new = pd.concat([df_new,pd.get_dummies(df_new['County'], prefix='County')],axis=1)\n",
    "df_new.drop(['County'],axis=1, inplace=True)\n",
    "df_new = pd.concat([df_new,pd.get_dummies(df_new['NCIC'], prefix='Agency')],axis=1)\n",
    "df_new.drop(['NCIC'],axis=1, inplace=True)\n",
    "df_new = pd.concat([df_new,pd.get_dummies(df_new['ClosedYear'], prefix='Year')],axis=1)\n",
    "df_new.drop(['ClosedYear'],axis=1, inplace=True)\n",
    "df_new = pd.concat([df_new,pd.get_dummies(df_new['MonthOccurrence'], prefix='Month')],axis=1)\n",
    "df_new.drop(['MonthOccurrence'],axis=1, inplace=True)"
   ]
  },
  {
   "cell_type": "code",
   "execution_count": 5,
   "metadata": {},
   "outputs": [],
   "source": [
    "#separate data into labels and data points\n",
    "y_labels = df_new['MostSeriousBias']\n",
    "x_data = df_new.iloc[:, 1:778]"
   ]
  },
  {
   "cell_type": "code",
   "execution_count": 6,
   "metadata": {},
   "outputs": [],
   "source": [
    "#split data into training and testing sets and shuffle before splitting\n",
    "x_Train, x_Test, y_Train, y_Test = train_test_split(x_data, y_labels, shuffle = True, test_size = .3)"
   ]
  },
  {
   "cell_type": "code",
   "execution_count": 7,
   "metadata": {},
   "outputs": [],
   "source": [
    "#scale the data/normalize the data so that the features do not broadly vary\n",
    "scaler = StandardScaler()\n",
    "scaler.fit(x_Train)\n",
    "\n",
    "x_Train = scaler.transform(x_Train)\n",
    "x_Test = scaler.transform(x_Test)"
   ]
  },
  {
   "cell_type": "code",
   "execution_count": 9,
   "metadata": {},
   "outputs": [
    {
     "name": "stdout",
     "output_type": "stream",
     "text": [
      "25\n",
      "50\n",
      "75\n",
      "100\n",
      "125\n",
      "150\n",
      "175\n"
     ]
    }
   ],
   "source": [
    "#create an empty list to store accuracy values\n",
    "accuracy = []\n",
    "for n in range(25,200,25):\n",
    "    print(n)\n",
    "    #build the Knn classifier\n",
    "    knnclass = KNeighborsClassifier(n_neighbors=n)\n",
    "    #train the classifier\n",
    "    knnclass.fit(x_Train, y_Train)\n",
    "    #make predictions for testing data by using the classifier\n",
    "    y_pred = knnclass.predict(x_Test)\n",
    "    #save the accuracy score for each iteration\n",
    "    acc = accuracy_score(y_Test, y_pred)\n",
    "    accuracy.append(acc)"
   ]
  },
  {
   "cell_type": "code",
   "execution_count": 10,
   "metadata": {},
   "outputs": [
    {
     "data": {
      "text/plain": [
       "[<matplotlib.lines.Line2D at 0x7fccfadacf90>]"
      ]
     },
     "execution_count": 10,
     "metadata": {},
     "output_type": "execute_result"
    },
    {
     "data": {
      "image/png": "[encoded data removed]",
      "text/plain": [
       "<Figure size 432x288 with 1 Axes>"
      ]
     },
     "metadata": {
      "needs_background": "light"
     },
     "output_type": "display_data"
    }
   ],
   "source": [
    "import matplotlib.pyplot as plt\n",
    "estimators = list(range(25,200,25))\n",
    "plt.plot(estimators,accuracy)"
   ]
  },
  {
   "cell_type": "code",
   "execution_count": null,
   "metadata": {},
   "outputs": [],
   "source": [
    "#create an empty list to store accuracy values\n",
    "accuracy = []\n",
    "\n",
    "#create different RF classifiers by changing the n_estimators every iteration\n",
    "for n in range(25,525,25):\n",
    "    #Build the Random Forest Classifier\n",
    "    randFC=RandomForestClassifier(n_estimators=n)\n",
    "\n",
    "    #train the classifier\n",
    "    randFC.fit(x_Train,y_Train)\n",
    "    \n",
    "    #make predictions for testing data by using classifier\n",
    "    y_pred=randFC.predict(x_Test)\n",
    "\n",
    "    #save accuracy of our classifier each iteration\n",
    "    acc = accuracy_score(y_Test, y_pred)\n",
    "    accuracy.append(acc)\n",
    "    "
   ]
  },
  {
   "cell_type": "code",
   "execution_count": null,
   "metadata": {},
   "outputs": [],
   "source": [
    "import matplotlib.pyplot as plt\n",
    "estimators = list(range(25,525,25))\n",
    "plt.plot(estimators,accuracy)"
   ]
  },
  {
   "cell_type": "code",
   "execution_count": null,
   "metadata": {},
   "outputs": [],
   "source": [
    "#print out statistics to show how well our classifier did\n",
    "print(classification_report(y_Test, y_pred))"
   ]
  },
  {
   "cell_type": "code",
   "execution_count": null,
   "metadata": {},
   "outputs": [],
   "source": []
  },
  {
   "cell_type": "code",
   "execution_count": null,
   "metadata": {},
   "outputs": [],
   "source": []
  },
  {
   "cell_type": "code",
   "execution_count": null,
   "metadata": {},
   "outputs": [],
   "source": []
  },
  {
   "cell_type": "code",
   "execution_count": null,
   "metadata": {},
   "outputs": [],
   "source": []
  },
  {
   "cell_type": "code",
   "execution_count": null,
   "metadata": {},
   "outputs": [],
   "source": []
  }
 ],
 "metadata": {
  "kernelspec": {
   "display_name": "Python 3",
   "language": "python",
   "name": "python3"
  },
  "language_info": {
   "codemirror_mode": {
    "name": "ipython",
    "version": 3
   },
   "file_extension": ".py",
   "mimetype": "text/x-python",
   "name": "python",
   "nbconvert_exporter": "python",
   "pygments_lexer": "ipython3",
   "version": "3.9.2"
  }
 },
 "nbformat": 4,
 "nbformat_minor": 4
}
