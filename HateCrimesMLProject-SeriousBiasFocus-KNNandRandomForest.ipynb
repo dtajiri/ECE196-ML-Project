{
 "cells": [
  {
   "cell_type": "code",
   "execution_count": 17,
   "metadata": {},
   "outputs": [],
   "source": [
    "import pandas as pd\n",
    "import numpy as np\n",
    "from sklearn.model_selection import train_test_split\n",
    "from sklearn.preprocessing import StandardScaler\n",
    "from sklearn.metrics import classification_report\n",
    "from sklearn.neighbors import KNeighborsClassifier\n",
    "from sklearn.ensemble import RandomForestClassifier\n",
    "from sklearn.metrics import accuracy_score\n",
    "pd.set_option('display.max_columns', None)"
   ]
  },
  {
   "cell_type": "code",
   "execution_count": 18,
   "metadata": {},
   "outputs": [],
   "source": [
    "df = pd.read_csv(\"Hate-2001-2019-0.csv\")"
   ]
  },
  {
   "cell_type": "code",
   "execution_count": 19,
   "metadata": {},
   "outputs": [],
   "source": [
    "#Fill empty values with None for Weapon Type and clean up typos in dataset\n",
    "df['WeaponType'].fillna('None',inplace = True)\n",
    "df['WeaponType'].replace('Other ( bottle, rocks, spitting)', 'Other (bottle, rocks, spitting)', inplace=True)\n",
    "df['WeaponType'].replace('Firearm (unknown whether handgun, rifle or shotgun', 'Firearm (unknown whether handgun, rifle or shotgun)', inplace=True)\n",
    "\n",
    "#Replace rest of NaN values with 'Unknown'\n",
    "df_new = df.replace(np.nan, 'Unknown', regex=True)\n",
    "\n",
    "#rearrange columns to be more easily readable\n",
    "columns_titles = ['MostSeriousBias','TotalNumberOfVictims','MostSeriousVictimType','TotalNumberOfSuspects','SuspectsRaceAsAGroup','MostSeriousUcr','MostSeriousUcrType','WeaponType','Offensive_Act','MostSeriousLocation','County','NCIC','ClosedYear','MonthOccurrence']\n",
    "df_new=df_new.reindex(columns=columns_titles)\n",
    "\n",
    "#One hot encode all necessary columns\n",
    "#df_new = pd.concat([df_new,pd.get_dummies(df_new['MostSeriousBiasType'], prefix='BiasType')],axis=1)\n",
    "#df_new.drop(['MostSeriousBiasType'],axis=1, inplace=True)\n",
    "TotalNumberOfVictims = df_new['TotalNumberOfVictims']\n",
    "df_new.drop(['TotalNumberOfVictims'],axis=1, inplace=True)\n",
    "df_new = pd.concat([df_new,TotalNumberOfVictims],axis=1)\n",
    "df_new = pd.concat([df_new,pd.get_dummies(df_new['MostSeriousVictimType'], prefix='VictimType')],axis=1)\n",
    "df_new.drop(['MostSeriousVictimType'],axis=1, inplace=True)\n",
    "TotalNumberOfSuspects = df_new['TotalNumberOfSuspects']\n",
    "df_new.drop(['TotalNumberOfSuspects'],axis=1, inplace=True)\n",
    "df_new = pd.concat([df_new,TotalNumberOfSuspects],axis=1)\n",
    "df_new = pd.concat([df_new,pd.get_dummies(df_new['SuspectsRaceAsAGroup'], prefix='SuspectsRace')],axis=1)\n",
    "df_new.drop(['SuspectsRaceAsAGroup'],axis=1, inplace=True)\n",
    "df_new = pd.concat([df_new,pd.get_dummies(df_new['MostSeriousUcr'], prefix='Ucr')],axis=1)\n",
    "df_new.drop(['MostSeriousUcr'],axis=1, inplace=True)\n",
    "df_new = pd.concat([df_new,pd.get_dummies(df_new['MostSeriousUcrType'], prefix='UcrType')],axis=1)\n",
    "df_new.drop(['MostSeriousUcrType'],axis=1, inplace=True)\n",
    "df_new = pd.concat([df_new,pd.get_dummies(df_new['WeaponType'], prefix='Weapon')],axis=1)\n",
    "df_new.drop(['WeaponType'],axis=1, inplace=True)\n",
    "df_new = pd.concat([df_new,pd.get_dummies(df_new['Offensive_Act'], prefix='Offense')],axis=1)\n",
    "df_new.drop(['Offensive_Act'],axis=1, inplace=True)\n",
    "df_new = pd.concat([df_new,pd.get_dummies(df_new['MostSeriousLocation'], prefix='Location')],axis=1)\n",
    "df_new.drop(['MostSeriousLocation'],axis=1, inplace=True)\n",
    "df_new = pd.concat([df_new,pd.get_dummies(df_new['County'], prefix='County')],axis=1)\n",
    "df_new.drop(['County'],axis=1, inplace=True)\n",
    "df_new = pd.concat([df_new,pd.get_dummies(df_new['NCIC'], prefix='Agency')],axis=1)\n",
    "df_new.drop(['NCIC'],axis=1, inplace=True)\n",
    "df_new = pd.concat([df_new,pd.get_dummies(df_new['ClosedYear'], prefix='Year')],axis=1)\n",
    "df_new.drop(['ClosedYear'],axis=1, inplace=True)\n",
    "df_new = pd.concat([df_new,pd.get_dummies(df_new['MonthOccurrence'], prefix='Month')],axis=1)\n",
    "df_new.drop(['MonthOccurrence'],axis=1, inplace=True)"
   ]
  },
  {
   "cell_type": "code",
   "execution_count": 20,
   "metadata": {},
   "outputs": [],
   "source": [
    "#separate data into labels and data points\n",
    "y_labels = df_new['MostSeriousBias']\n",
    "x_data = df_new.iloc[:, 1:778]"
   ]
  },
  {
   "cell_type": "code",
   "execution_count": 21,
   "metadata": {},
   "outputs": [],
   "source": [
    "#split data into training and testing sets and shuffle before splitting\n",
    "x_Train, x_Test, y_Train, y_Test = train_test_split(x_data, y_labels, shuffle = True, test_size = .2)"
   ]
  },
  {
   "cell_type": "code",
   "execution_count": 22,
   "metadata": {},
   "outputs": [],
   "source": [
    "#scale the data/normalize the data so that the features do not broadly vary\n",
    "scaler = StandardScaler()\n",
    "scaler.fit(x_Train)\n",
    "\n",
    "x_Train = scaler.transform(x_Train)\n",
    "x_Test = scaler.transform(x_Test)"
   ]
  },
  {
   "cell_type": "code",
   "execution_count": 31,
   "metadata": {},
   "outputs": [
    {
     "name": "stdout",
     "output_type": "stream",
     "text": [
      "25\n",
      "50\n",
      "75\n",
      "100\n",
      "125\n",
      "150\n",
      "175\n",
      "200\n",
      "225\n",
      "250\n",
      "275\n",
      "300\n",
      "325\n",
      "350\n",
      "375\n",
      "400\n",
      "425\n",
      "450\n",
      "475\n",
      "500\n"
     ]
    }
   ],
   "source": [
    "#create an empty list to store accuracy values\n",
    "accuracy1 = []\n",
    "for n in range(25,525,25):\n",
    "    print(n)\n",
    "    #build the Knn classifier\n",
    "    knnclass = KNeighborsClassifier(n_neighbors=n)\n",
    "    #train the classifier\n",
    "    knnclass.fit(x_Train, y_Train)\n",
    "    #make predictions for testing data by using the classifier\n",
    "    y_pred = knnclass.predict(x_Test)\n",
    "    #save the accuracy score for each iteration\n",
    "    acc = accuracy_score(y_Test, y_pred)\n",
    "    accuracy1.append(acc)"
   ]
  },
  {
   "cell_type": "code",
   "execution_count": 32,
   "metadata": {},
   "outputs": [
    {
     "data": {
      "text/plain": [
       "Text(0, 0.5, 'Accuracy')"
      ]
     },
     "execution_count": 32,
     "metadata": {},
     "output_type": "execute_result"
    },
    {
     "data": {
      "image/png": "[encoded data removed]",
      "text/plain": [
       "<Figure size 432x288 with 1 Axes>"
      ]
     },
     "metadata": {
      "needs_background": "light"
     },
     "output_type": "display_data"
    }
   ],
   "source": [
    "import matplotlib.pyplot as plt\n",
    "estimators = list(range(25,525,25))\n",
    "plt.plot(estimators,accuracy1)\n",
    "plt.title('Accuracy vs Number of Neighbors')\n",
    "plt.xlabel('Number of Neighbors, K')\n",
    "plt.ylabel('Accuracy')"
   ]
  },
  {
   "cell_type": "code",
   "execution_count": 33,
   "metadata": {},
   "outputs": [
    {
     "name": "stdout",
     "output_type": "stream",
     "text": [
      "150\n",
      "0.39463435742102987\n"
     ]
    }
   ],
   "source": [
    "np.argmax(accuracy1)\n",
    "Nvaluemax1 = estimators[np.argmax(accuracy1)]\n",
    "maxaccuracy1 = accuracy[np.argmax(accuracy1)]\n",
    "print(Nvaluemax1)\n",
    "print(maxaccuracy1)"
   ]
  },
  {
   "cell_type": "code",
   "execution_count": 34,
   "metadata": {},
   "outputs": [],
   "source": [
    "#create an empty list to store accuracy values\n",
    "accuracy2 = []\n",
    "\n",
    "#create different RF classifiers by changing the n_estimators every iteration\n",
    "for n in range(25,525,25):\n",
    "    #Build the Random Forest Classifier\n",
    "    randFC=RandomForestClassifier(n_estimators=n)\n",
    "\n",
    "    #train the classifier\n",
    "    randFC.fit(x_Train,y_Train)\n",
    "    \n",
    "    #make predictions for testing data by using classifier\n",
    "    y_pred=randFC.predict(x_Test)\n",
    "\n",
    "    #save accuracy of our classifier each iteration\n",
    "    acc = accuracy_score(y_Test, y_pred)\n",
    "    accuracy2.append(acc)\n",
    "    "
   ]
  },
  {
   "cell_type": "code",
   "execution_count": 35,
   "metadata": {},
   "outputs": [
    {
     "data": {
      "text/plain": [
       "Text(0, 0.5, 'Accuracy')"
      ]
     },
     "execution_count": 35,
     "metadata": {},
     "output_type": "execute_result"
    },
    {
     "data": {
      "image/png": "[encoded data removed]",
      "text/plain": [
       "<Figure size 432x288 with 1 Axes>"
      ]
     },
     "metadata": {
      "needs_background": "light"
     },
     "output_type": "display_data"
    }
   ],
   "source": [
    "import matplotlib.pyplot as plt\n",
    "estimators = list(range(25,525,25))\n",
    "plt.plot(estimators,accuracy2)\n",
    "plt.title('Accuracy vs N-Estimators')\n",
    "plt.xlabel('Estimators')\n",
    "plt.ylabel('Accuracy')"
   ]
  },
  {
   "cell_type": "code",
   "execution_count": 36,
   "metadata": {},
   "outputs": [
    {
     "name": "stdout",
     "output_type": "stream",
     "text": [
      "175\n",
      "0.3931198615318044\n"
     ]
    }
   ],
   "source": [
    "np.argmax(accuracy2)\n",
    "Nvaluemax2 = estimators[np.argmax(accuracy2)]\n",
    "maxaccuracy2 = accuracy[np.argmax(accuracy2)]\n",
    "print(Nvaluemax2)\n",
    "print(maxaccuracy2)"
   ]
  },
  {
   "cell_type": "code",
   "execution_count": 37,
   "metadata": {},
   "outputs": [
    {
     "name": "stdout",
     "output_type": "stream",
     "text": [
      "                                                        precision    recall  f1-score   support\n",
      "\n",
      "                    Anti-American Indian/Alaska Native       0.00      0.00      0.00         6\n",
      "                                             Anti-Arab       0.17      0.01      0.03        68\n",
      "                                            Anti-Asian       0.21      0.03      0.06       173\n",
      "                                         Anti-Bisexual       0.00      0.00      0.00         8\n",
      "                        Anti-Black or African American       0.42      0.81      0.56      1416\n",
      "                                         Anti-Catholic       0.32      0.29      0.30        35\n",
      "                               Anti-Citizenship Status       0.00      0.00      0.00        10\n",
      "                                           Anti-Female       1.00      0.22      0.36         9\n",
      "                                       Anti-Gay (Male)       0.33      0.26      0.29       617\n",
      "                             Anti-Gender Nonconforming       0.00      0.00      0.00         2\n",
      "                                     Anti-Heterosexual       0.00      0.00      0.00         3\n",
      "                                            Anti-Hindu       0.00      0.00      0.00         2\n",
      "                               Anti-Hispanic or Latino       0.35      0.21      0.26       428\n",
      "                                 Anti-Islamic (Muslim)       0.33      0.08      0.13        96\n",
      "                                           Anti-Jewish       0.41      0.41      0.41       487\n",
      "                                          Anti-Lesbian       0.14      0.03      0.05       104\n",
      "Anti-Lesbian/Gay/Bisexual or Transgender (Mixed Group)       0.33      0.11      0.16       263\n",
      "                                             Anti-Male       0.00      0.00      0.00         1\n",
      "                                Anti-Mental Disability       0.00      0.00      0.00         7\n",
      "                                           Anti-Mormon       1.00      0.67      0.80         3\n",
      "                           Anti-Multiple Races (Group)       0.21      0.07      0.10       131\n",
      "                       Anti-Multiple Religions (Group)       0.44      0.12      0.19        33\n",
      "        Anti-Native Hawaiian or Other Pacific Islander       0.00      0.00      0.00         5\n",
      "                                  Anti-Other Christian       0.00      0.00      0.00         6\n",
      "                    Anti-Other Race/Ethnicity/Ancestry       0.49      0.25      0.33       293\n",
      "                                   Anti-Other Religion       0.42      0.36      0.39       104\n",
      "                              Anti-Physical Disability       0.00      0.00      0.00        12\n",
      "                                       Anti-Protestant       0.20      0.07      0.11        14\n",
      "                                      Anti-Transgender       0.00      0.00      0.00        69\n",
      "                                            Anti-White       0.31      0.22      0.25       217\n",
      "\n",
      "                                              accuracy                           0.40      4622\n",
      "                                             macro avg       0.24      0.14      0.16      4622\n",
      "                                          weighted avg       0.36      0.40      0.34      4622\n",
      "\n"
     ]
    },
    {
     "name": "stderr",
     "output_type": "stream",
     "text": [
      "/Users/danatajiri/opt/anaconda3/lib/python3.8/site-packages/sklearn/metrics/_classification.py:1221: UndefinedMetricWarning: Precision and F-score are ill-defined and being set to 0.0 in labels with no predicted samples. Use `zero_division` parameter to control this behavior.\n",
      "  _warn_prf(average, modifier, msg_start, len(result))\n"
     ]
    }
   ],
   "source": [
    "#print out statistics to show how well our classifier did\n",
    "print(classification_report(y_Test, y_pred))"
   ]
  },
  {
   "cell_type": "code",
   "execution_count": null,
   "metadata": {},
   "outputs": [],
   "source": []
  },
  {
   "cell_type": "code",
   "execution_count": null,
   "metadata": {},
   "outputs": [],
   "source": []
  },
  {
   "cell_type": "code",
   "execution_count": null,
   "metadata": {},
   "outputs": [],
   "source": []
  },
  {
   "cell_type": "code",
   "execution_count": null,
   "metadata": {},
   "outputs": [],
   "source": []
  }
 ],
 "metadata": {
  "kernelspec": {
   "display_name": "Python 3",
   "language": "python",
   "name": "python3"
  },
  "language_info": {
   "codemirror_mode": {
    "name": "ipython",
    "version": 3
   },
   "file_extension": ".py",
   "mimetype": "text/x-python",
   "name": "python",
   "nbconvert_exporter": "python",
   "pygments_lexer": "ipython3",
   "version": "3.8.5"
  }
 },
 "nbformat": 4,
 "nbformat_minor": 4
}
