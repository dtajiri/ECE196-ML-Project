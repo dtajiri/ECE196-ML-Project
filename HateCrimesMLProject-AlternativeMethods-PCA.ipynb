{
 "cells": [
  {
   "cell_type": "code",
   "execution_count": 3,
   "metadata": {},
   "outputs": [],
   "source": [
    "import pandas as pd\n",
    "import numpy as np\n",
    "import matplotlib.pyplot as plt\n",
    "from sklearn.model_selection import train_test_split\n",
    "from sklearn.preprocessing import StandardScaler\n",
    "from sklearn.decomposition import PCA\n",
    "pd.set_option('display.max_columns', None)"
   ]
  },
  {
   "cell_type": "code",
   "execution_count": 4,
   "metadata": {},
   "outputs": [],
   "source": [
    "df = pd.read_csv(r'C:\\Users\\98all\\Documents\\GitHub\\ECE196_SP21\\Hate-2001-2019-0.csv')"
   ]
  },
  {
   "cell_type": "code",
   "execution_count": 5,
   "metadata": {},
   "outputs": [],
   "source": [
    "#Fill empty values with None for Weapon Type and clean up typos in dataset\n",
    "df['WeaponType'].fillna('None',inplace = True)\n",
    "df['WeaponType'].replace('Other ( bottle, rocks, spitting)', 'Other (bottle, rocks, spitting)', inplace=True)\n",
    "df['WeaponType'].replace('Firearm (unknown whether handgun, rifle or shotgun', 'Firearm (unknown whether handgun, rifle or shotgun)', inplace=True)\n",
    "\n",
    "#Replace rest of NaN values with 'Unknown'\n",
    "df_new = df.replace(np.nan, 'Unknown', regex=True)\n",
    "\n",
    "#rearrange columns to be more easily readable\n",
    "columns_titles = ['MostSeriousBias','MostSeriousBiasType','TotalNumberOfVictims','MostSeriousVictimType','TotalNumberOfSuspects','SuspectsRaceAsAGroup','MostSeriousUcr','MostSeriousUcrType','WeaponType','Offensive_Act','MostSeriousLocation','County','NCIC','ClosedYear','MonthOccurrence']\n",
    "df_new=df_new.reindex(columns=columns_titles)\n",
    "\n",
    "#One hot encode all necessary columns\n",
    "df_new = pd.concat([df_new,pd.get_dummies(df_new['MostSeriousBias'], prefix='Bias')],axis=1)\n",
    "df_new.drop(['MostSeriousBias'],axis=1, inplace=True)\n",
    "TotalNumberOfVictims = df_new['TotalNumberOfVictims']\n",
    "df_new.drop(['TotalNumberOfVictims'],axis=1, inplace=True)\n",
    "df_new = pd.concat([df_new,TotalNumberOfVictims],axis=1)\n",
    "df_new = pd.concat([df_new,pd.get_dummies(df_new['MostSeriousVictimType'], prefix='VictimType')],axis=1)\n",
    "df_new.drop(['MostSeriousVictimType'],axis=1, inplace=True)\n",
    "TotalNumberOfSuspects = df_new['TotalNumberOfSuspects']\n",
    "df_new.drop(['TotalNumberOfSuspects'],axis=1, inplace=True)\n",
    "df_new = pd.concat([df_new,TotalNumberOfSuspects],axis=1)\n",
    "df_new = pd.concat([df_new,pd.get_dummies(df_new['SuspectsRaceAsAGroup'], prefix='SuspectsRace')],axis=1)\n",
    "df_new.drop(['SuspectsRaceAsAGroup'],axis=1, inplace=True)\n",
    "df_new = pd.concat([df_new,pd.get_dummies(df_new['MostSeriousUcr'], prefix='Ucr')],axis=1)\n",
    "df_new.drop(['MostSeriousUcr'],axis=1, inplace=True)\n",
    "df_new = pd.concat([df_new,pd.get_dummies(df_new['MostSeriousUcrType'], prefix='UcrType')],axis=1)\n",
    "df_new.drop(['MostSeriousUcrType'],axis=1, inplace=True)\n",
    "df_new = pd.concat([df_new,pd.get_dummies(df_new['WeaponType'], prefix='Weapon')],axis=1)\n",
    "df_new.drop(['WeaponType'],axis=1, inplace=True)\n",
    "df_new = pd.concat([df_new,pd.get_dummies(df_new['Offensive_Act'], prefix='Offense')],axis=1)\n",
    "df_new.drop(['Offensive_Act'],axis=1, inplace=True)\n",
    "df_new = pd.concat([df_new,pd.get_dummies(df_new['MostSeriousLocation'], prefix='Location')],axis=1)\n",
    "df_new.drop(['MostSeriousLocation'],axis=1, inplace=True)\n",
    "df_new = pd.concat([df_new,pd.get_dummies(df_new['County'], prefix='County')],axis=1)\n",
    "df_new.drop(['County'],axis=1, inplace=True)\n",
    "df_new = pd.concat([df_new,pd.get_dummies(df_new['NCIC'], prefix='Agency')],axis=1)\n",
    "df_new.drop(['NCIC'],axis=1, inplace=True)\n",
    "df_new = pd.concat([df_new,pd.get_dummies(df_new['ClosedYear'], prefix='Year')],axis=1)\n",
    "df_new.drop(['ClosedYear'],axis=1, inplace=True)\n",
    "df_new = pd.concat([df_new,pd.get_dummies(df_new['MonthOccurrence'], prefix='Month')],axis=1)\n",
    "df_new.drop(['MonthOccurrence'],axis=1, inplace=True)"
   ]
  },
  {
   "cell_type": "code",
   "execution_count": 6,
   "metadata": {},
   "outputs": [],
   "source": [
    "#separate data into labels and data points\n",
    "y_labels = df_new['MostSeriousBiasType']\n",
    "x_data = df_new.iloc[:, 1:778]"
   ]
  },
  {
   "cell_type": "code",
   "execution_count": 9,
   "metadata": {},
   "outputs": [],
   "source": [
    "#split data into training and testing sets and shuffle before splitting\n",
    "x_Train, x_Test, y_Train, y_Test = train_test_split(x_data, y_labels, shuffle = True, test_size = .2)"
   ]
  },
  {
   "cell_type": "code",
   "execution_count": 10,
   "metadata": {},
   "outputs": [],
   "source": [
    "#scale the data/normalize the data so that the features do not broadly vary\n",
    "scaler = StandardScaler()\n",
    "scaler.fit(x_Train)\n",
    "\n",
    "x_Train = scaler.transform(x_Train)\n",
    "x_Test = scaler.transform(x_Test)"
   ]
  },
  {
   "cell_type": "code",
   "execution_count": 11,
   "metadata": {},
   "outputs": [
    {
     "data": {
      "text/plain": [
       "KNeighborsClassifier(n_neighbors=2)"
      ]
     },
     "execution_count": 11,
     "metadata": {},
     "output_type": "execute_result"
    }
   ],
   "source": [
    "#build the Knn classifier\n",
    "from sklearn.neighbors import KNeighborsClassifier\n",
    "classifier = KNeighborsClassifier(n_neighbors=2)\n",
    "classifier.fit(x_Train, y_Train)"
   ]
  },
  {
   "cell_type": "code",
   "execution_count": 12,
   "metadata": {},
   "outputs": [],
   "source": [
    "y_pred = classifier.predict(x_Test)"
   ]
  },
  {
   "cell_type": "code",
   "execution_count": 13,
   "metadata": {},
   "outputs": [
    {
     "name": "stdout",
     "output_type": "stream",
     "text": [
      "                         precision    recall  f1-score   support\n",
      "\n",
      "             Disability       0.94      0.94      0.94        16\n",
      "                 Gender       1.00      0.70      0.82        10\n",
      "   Gender Nonconforming       0.95      0.81      0.87        67\n",
      "Race/Ethnicity/Ancestry       0.73      0.95      0.83      2755\n",
      "               Religion       0.77      0.50      0.61       781\n",
      "     Sexual Orientation       0.85      0.37      0.52       993\n",
      "\n",
      "               accuracy                           0.75      4622\n",
      "              macro avg       0.87      0.71      0.76      4622\n",
      "           weighted avg       0.77      0.75      0.72      4622\n",
      "\n"
     ]
    }
   ],
   "source": [
    "#print out statistics to show how well our classifier did\n",
    "from sklearn.metrics import classification_report\n",
    "print(classification_report(y_Test, y_pred))"
   ]
  },
  {
   "cell_type": "code",
   "execution_count": 25,
   "metadata": {},
   "outputs": [],
   "source": [
    "# applied Principal Component Analysis (PCA) in order to reduce  \n",
    "# the number of components and dimensionality of the data set in order\n",
    "# to be visualized easier\n",
    "\n",
    "from sklearn.decomposition import PCA\n",
    "\n",
    "pca = PCA(n_components = 13)\n",
    "transf = pca.fit_transform(x_Train)\n",
    "transf2 = pca.fit_transform(x_Test)\n",
    "\n"
   ]
  },
  {
   "cell_type": "code",
   "execution_count": 32,
   "metadata": {},
   "outputs": [
    {
     "data": {
      "image/png": "[encoded data removed]",
      "text/plain": [
       "<Figure size 432x288 with 1 Axes>"
      ]
     },
     "metadata": {
      "needs_background": "light"
     },
     "output_type": "display_data"
    }
   ],
   "source": [
    "# initial utilization of PCA shows very little information\n",
    "# this is most likely due to nonspecific features leading to poor \n",
    "# generalizations in the data\n",
    "\n",
    "plt.plot(transf2[0:20,0],transf2[0:20,1], 'o', markersize=7, color='blue', alpha=0.5, label='class1')\n",
    "plt.plot(transf2[20:40,0], transf2[20:40,1], '^', markersize=7, color='red', alpha=0.5, label='class2')\n",
    "plt.plot(transf2[40:60,0], transf2[40:60,1], 'x', markersize=7, color='green', alpha=0.5, label='class3')\n",
    "plt.plot(transf2[60:80,0], transf2[60:80,1], '.', markersize=7, color='orange', alpha=0.5, label='class4')\n",
    "\n",
    "plt.xlabel('x_values')\n",
    "plt.ylabel('y_values')\n",
    "plt.xlim([-1,1])\n",
    "plt.ylim([-2,2.5])\n",
    "plt.legend()\n",
    "plt.title('Transformed samples with class labels from matplotlib.mlab.PCA()')\n",
    "\n",
    "plt.show()"
   ]
  },
  {
   "cell_type": "code",
   "execution_count": null,
   "metadata": {},
   "outputs": [],
   "source": []
  }
 ],
 "metadata": {
  "kernelspec": {
   "display_name": "Python 3",
   "language": "python",
   "name": "python3"
  },
  "language_info": {
   "codemirror_mode": {
    "name": "ipython",
    "version": 3
   },
   "file_extension": ".py",
   "mimetype": "text/x-python",
   "name": "python",
   "nbconvert_exporter": "python",
   "pygments_lexer": "ipython3",
   "version": "3.9.2"
  }
 },
 "nbformat": 4,
 "nbformat_minor": 4
}
